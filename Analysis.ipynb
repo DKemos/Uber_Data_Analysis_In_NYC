{
 "cells": [
  {
   "cell_type": "markdown",
   "metadata": {},
   "source": [
    "## EXPLANATORY ANALYSIS "
   ]
  },
  {
   "cell_type": "code",
   "execution_count": 1,
   "metadata": {},
   "outputs": [
    {
     "data": {
      "text/html": [
       "<script>requirejs.config({paths: { 'plotly': ['https://cdn.plot.ly/plotly-latest.min']},});if(!window.Plotly) {{require(['plotly'],function(plotly) {window.Plotly=plotly;});}}</script>"
      ],
      "text/vnd.plotly.v1+html": [
       "<script>requirejs.config({paths: { 'plotly': ['https://cdn.plot.ly/plotly-latest.min']},});if(!window.Plotly) {{require(['plotly'],function(plotly) {window.Plotly=plotly;});}}</script>"
      ]
     },
     "metadata": {},
     "output_type": "display_data"
    },
    {
     "name": "stdout",
     "output_type": "stream",
     "text": [
      "<class 'pandas.core.frame.DataFrame'>\n",
      "RangeIndex: 4534327 entries, 0 to 4534326\n",
      "Data columns (total 10 columns):\n",
      "timestamp    object\n",
      "lat          float64\n",
      "lon          float64\n",
      "base         object\n",
      "weekday      object\n",
      "month        int64\n",
      "day          int64\n",
      "hour         int64\n",
      "minute       int64\n",
      "dayofweek    int64\n",
      "dtypes: float64(2), int64(5), object(3)\n",
      "memory usage: 345.9+ MB\n"
     ]
    }
   ],
   "source": [
    "## Libraries Used For The Analysis ##\n",
    "import time\n",
    "import numpy as np\n",
    "import pandas as pd\n",
    "import seaborn as sns\n",
    "import math as math\n",
    "\n",
    "import plotly\n",
    "import plotly.plotly as py\n",
    "import plotly.graph_objs as go\n",
    "from plotly import __version__\n",
    "from plotly.offline import download_plotlyjs, init_notebook_mode, plot, iplot\n",
    "init_notebook_mode(connected=True)\n",
    "\n",
    "import matplotlib.pyplot as plt\n",
    "from matplotlib import pylab\n",
    "from matplotlib import cm\n",
    "from matplotlib import style\n",
    "style.use('fivethirtyeight')\n",
    "\n",
    "%matplotlib inline\n",
    "\n",
    "# DataSet Input As Data Frame\n",
    "trips = pd.read_csv('formated_uber_data.csv')\n",
    "trips.columns = ['timestamp', 'lat', 'lon', 'base','weekday','month','day','hour','minute','dayofweek']\n",
    "\n",
    "trips.info()"
   ]
  },
  {
   "cell_type": "code",
   "execution_count": 2,
   "metadata": {},
   "outputs": [
    {
     "data": {
      "text/plain": [
       "'file:///Users/dimitriskemos/Documents/MSc Data Science And Analytics/Visual Communication and Information Design/Assesments/2/Viz/uber-pickups-in-new-york-city/Uber14/Histogram(TRIPS-TIME).html'"
      ]
     },
     "execution_count": 2,
     "metadata": {},
     "output_type": "execute_result"
    }
   ],
   "source": [
    "## Histogram Demonstrating Number Of Trips Against Different Times Of A Day ##\n",
    "\n",
    "trace = go.Histogram(x=trips.hour, opacity=0.750 )\n",
    "data = [trace]\n",
    "\n",
    "layout = go.Layout(title='Averege Trips In A Day (April - September 2014)',\n",
    "                   titlefont=dict(size=30),\n",
    "                   xaxis=dict(title='Time In Hours',\n",
    "                              titlefont=dict(\n",
    "                              family='Courier New, monospace',\n",
    "                              size=30,color='#7f7f7f')),\n",
    "                   yaxis=dict(title='Trips Frequency',\n",
    "                              titlefont=dict(\n",
    "                              family='Courier New, monospace',\n",
    "                              size=30,color='#7f7f7f')),\n",
    "                   \n",
    "                   bargap=0.2)\n",
    "\n",
    "fig = go.Figure(data=data, layout=layout)\n",
    "plotly.offline.plot(fig, filename='Histogram(TRIPS-TIME).html')"
   ]
  },
  {
   "cell_type": "code",
   "execution_count": 3,
   "metadata": {},
   "outputs": [
    {
     "data": {
      "text/plain": [
       "'file:///Users/dimitriskemos/Documents/MSc Data Science And Analytics/Visual Communication and Information Design/Assesments/2/Viz/uber-pickups-in-new-york-city/Uber14/HeatMap(TRIPS-TIME-DAY).html'"
      ]
     },
     "execution_count": 3,
     "metadata": {},
     "output_type": "execute_result"
    }
   ],
   "source": [
    "## Heatmap Demonstrating The Number Of Trips Against Different Time And Days \n",
    "\n",
    "def count_rows(rows):\n",
    "    return len(rows)\n",
    "\n",
    "by_cross = trips.groupby('dayofweek hour'.split()).apply(count_rows).unstack()\n",
    "\n",
    "data = [go.Heatmap(z=by_cross.values.tolist(),colorscale='Inferno')]\n",
    "\n",
    "layout = go.Layout(\n",
    "            title='Heatmap Indicating Trip Frequency',\n",
    "            titlefont=dict(size=30),\n",
    "    \n",
    "    xaxis=dict(\n",
    "            tickfont=dict(size=15),\n",
    "            tickmode = ['array'],\n",
    "            tickvals = ['0','1','2','3',' 4','5','6','7','8','9','10','11','12','13','14','15','16','17','18','19','20','21','22','23','24'],\n",
    "            ticktext = ['00:00','01:00','02:00','03:00',' 04:00','05:00','06:00','07:00','08:00','09:00','10:00','11:00','12:00','13:00','14:00','15:00','16:00','17:00','18:00','19:00','20:00','21:00','22:00','23:00','24:00'],\n",
    "            title='Time In Hours',\n",
    "            titlefont=dict(size=25),\n",
    "            tickangle=45),\n",
    "    \n",
    "    yaxis=dict(\n",
    "            tickfont=dict(size=15),\n",
    "            tickmode = ['array'],\n",
    "            tickvals = ['0','1','2','3',' 4','5','6'],\n",
    "            ticktext = ['Mon','Tue','Wed','Thu',' Frid','Sat','Sun'],\n",
    "            title='Days',\n",
    "            titlefont=dict(size=25)))\n",
    "\n",
    "updatemenus=list([dict(buttons=list([   \n",
    "                  dict(args=['type', 'surface'],label='3D Surface',method='restyle'),\n",
    "                  dict(args=['type', 'heatmap'],label='Heatmap',method='restyle')]),\n",
    "                       \n",
    "                  direction = 'left',\n",
    "                  pad = {'r': 10, 't': 10},\n",
    "                  showactive = True,\n",
    "                  type = 'buttons',\n",
    "                  x = 0.1,\n",
    "                  xanchor = 'left',\n",
    "                  y = 1.1,\n",
    "                  yanchor = 'top')])\n",
    "\n",
    "annotations = list([dict(\n",
    "                    text='Trace type:',\n",
    "                    x=0, \n",
    "                    y=1.085, \n",
    "                    yref='paper', \n",
    "                    align='left', \n",
    "                    showarrow=False)])\n",
    "\n",
    "annotations = list([dict(text='Trips',\n",
    "                         x=1.054, y=1.025, \n",
    "                         yref='paper',\n",
    "                         xref='paper' ,\n",
    "                         align='middle',\n",
    "                         showarrow=False,\n",
    "                         font=dict(size=16)),\n",
    "                         \n",
    "                        dict(text='Trace type:', \n",
    "                         x=0, \n",
    "                         y=1.085, \n",
    "                         yref='paper', \n",
    "                         align='left', \n",
    "                         showarrow=False)])\n",
    "    \n",
    "layout['updatemenus'] = updatemenus\n",
    "layout['annotations'] = annotations\n",
    "\n",
    "\n",
    "df = pd.DataFrame(by_cross)\n",
    "df.to_csv('by_cross.csv')\n",
    "fig = go.Figure(data=data, layout=layout)\n",
    "plotly.offline.plot(fig, filename='HeatMap(TRIPS-TIME-DAY).html')"
   ]
  },
  {
   "cell_type": "code",
   "execution_count": 4,
   "metadata": {},
   "outputs": [
    {
     "data": {
      "text/plain": [
       "'file:///Users/dimitriskemos/Documents/MSc Data Science And Analytics/Visual Communication and Information Design/Assesments/2/Viz/uber-pickups-in-new-york-city/Uber14/Point Plot(TRIPS-DAY-TIME).html'"
      ]
     },
     "execution_count": 4,
     "metadata": {},
     "output_type": "execute_result"
    }
   ],
   "source": [
    "df = pd.read_csv('by_cross_formated.csv', encoding = \"ISO-8859-1\")\n",
    "df.columns = ['Monday','Tuesday','Wednesday','Thursday','Friday','Saturday','Sunday']\n",
    "df['Time'] = df.index\n",
    "\n",
    "Monday = go.Scatter(\n",
    "                    x = df['Time'],\n",
    "                    y = df.Monday,\n",
    "                    name = \"Monday\",\n",
    "                    line = dict(color = '#8c510a',width = 4,shape='spline'),\n",
    "                    mode = 'lines+markers',\n",
    "                    opacity = 0.8)\n",
    "\n",
    "Tuesday = go.Scatter(\n",
    "                    x = df['Time'],\n",
    "                    y = df.Tuesday,\n",
    "                    name = \"Tuesday\",\n",
    "                    line = dict(color = '#d8b365',width = 4,shape='spline'),\n",
    "                    mode = 'lines+markers',\n",
    "                    opacity = 0.8)\n",
    "\n",
    "Wednesday = go.Scatter(\n",
    "                    x = df['Time'],\n",
    "                    y = df.Wednesday,\n",
    "                    name = \"Wednesday\",\n",
    "                    line = dict(color = '#c51b7d',width = 4,shape='spline'),\n",
    "                    mode = 'lines+markers',\n",
    "                    opacity = 0.8)\n",
    "\n",
    "Thursday = go.Scatter(\n",
    "                    x = df['Time'],\n",
    "                    y = df.Thursday,\n",
    "                    name = \"Thursday\",\n",
    "                    line = dict(color = '#762a83',width = 4,shape='spline'),\n",
    "                    mode = 'lines+markers',\n",
    "                    opacity = 0.8)\n",
    "\n",
    "Friday = go.Scatter(\n",
    "                    x = df['Time'],\n",
    "                    y = df.Friday,\n",
    "                    name = \"Friday\",\n",
    "                    line = dict(color = '#c7eae5',width = 4,shape='spline'),\n",
    "                    mode = 'lines+markers',\n",
    "                    opacity = 0.8)\n",
    "\n",
    "Saturday = go.Scatter(\n",
    "                    x = df['Time'],\n",
    "                    y = df.Saturday,\n",
    "                    name = \"Saturday\",\n",
    "                    line = dict(color = '#5ab4ac',width = 4,shape='spline'),\n",
    "                    mode = 'lines+markers',\n",
    "                    opacity = 0.8)\n",
    "\n",
    "Sunday = go.Scatter(\n",
    "                    x = df['Time'],\n",
    "                    y = df.Sunday,\n",
    "                    name = \"Sunday\",\n",
    "                    line = dict(color = '#01665e',width = 4,shape='spline'),\n",
    "                    mode = 'lines+markers',\n",
    "                    opacity = 0.8)\n",
    "\n",
    "data = [Monday, Tuesday, Wednesday, Thursday, Friday, Saturday, Sunday]\n",
    "\n",
    "layout = dict(\n",
    "            title='Frequency Of Trips During Different Times and Days',\n",
    "            titlefont=dict(size=30),\n",
    "    \n",
    "            xaxis=dict(\n",
    "                    zeroline = True,\n",
    "                    showline = True,\n",
    "                    title='Time In Hours',\n",
    "                    tickmode = ['array'],\n",
    "                    tickvals = ['0','1','2','3',' 4','5','6','7','8','9','10','11','12','13','14','15','16','17','18','19','20','21','22','23'],\n",
    "                    ticktext = ['00:00','01:00','02:00','03:00',' 04:00','05:00','06:00','07:00','08:00','09:00','10:00','11:00','12:00','13:00','14:00','15:00','16:00','17:00','18:00','19:00','20:00','21:00','22:00','23:00'],\n",
    "                    titlefont=dict(size=20),\n",
    "                    tickangle=45),\n",
    "    \n",
    "            yaxis=dict(rangemode='tozero',\n",
    "                    zeroline = True,\n",
    "                    title='Trip Frequency',\n",
    "                    titlefont=dict(size=20)),updatemenus=updatemenus)\n",
    "\n",
    "updatemenus = list([\n",
    "                    dict(active=9,\n",
    "                         buttons=list([   \n",
    "                         dict(label = 'Monday',\n",
    "                             method = 'update',\n",
    "                             args = [{'visible': [True, False, False,False,False,False,False]},\n",
    "                             {'title': 'Frequency Of Trips During Different Times On Monday'}]),\n",
    "                        dict(label = 'Tuesday',\n",
    "                             method = 'update',\n",
    "                             args = [{'visible': [False, True, False,False,False,False,False]},\n",
    "                             {'title': 'Frequency Of Trips During Different Times On Tuesday'}]),\n",
    "                        dict(label = 'Wednesday',\n",
    "                             method = 'update',\n",
    "                             args = [{'visible': [False, False,True,False,False,False,False]},\n",
    "                             {'title': 'Frequency Of Trips During Different Times On Wednesday'}]),\n",
    "                        dict(label = 'Thursday',\n",
    "                             method = 'update',\n",
    "                             args = [{'visible': [False, False,False,True,False,False,False]},\n",
    "                             {'title': 'Frequency Of Trips During Different Times On Thursday'}]),\n",
    "                        dict(label = 'Friday',\n",
    "                             method = 'update',\n",
    "                             args = [{'visible': [False, False,False,True,False,False,False]},\n",
    "                             {'title': 'Frequency Of Trips During Different Times On Friday'}]),\n",
    "                        dict(label = 'Saturday',\n",
    "                             method = 'update',\n",
    "                             args = [{'visible': [False, False,False,False,False,True,False]},\n",
    "                             {'title': 'Frequency Of Trips During Different Times On Saturday'}]),\n",
    "                        dict(label = 'Sunday',\n",
    "                             method = 'update',\n",
    "                             args = [{'visible': [False, False,False,False,False,False,True]},\n",
    "                             {'title': 'Frequency Of Trips During Different Times On Sunday'}]),\n",
    "                        dict(label = 'Weekday',\n",
    "                             method = 'update',\n",
    "                             args = [{'visible': [True, True,True,True,True,False,False]},\n",
    "                             {'title': 'Frequency Of Trips During Different Times On Weekdays'}]),\n",
    "                        dict(label = 'Weekend',\n",
    "                             method = 'update',\n",
    "                             args = [{'visible': [False, False,False,False,False,True,True]},\n",
    "                             {'title': 'Frequency Of Trips During Different Times On Weekends'}]), \n",
    "                        dict(label = 'All',\n",
    "                             method = 'update',\n",
    "                             args = [{'visible': [True, True,True,True,True,True,True]},\n",
    "                             {'title': 'Frequency Of Trips During Different Times and Days'}]),\n",
    "                        ]),\n",
    "                direction = 'down',\n",
    "                pad = {'r': 10, 't': 10},\n",
    "                showactive = True,\n",
    "                x = 1.02,\n",
    "                xanchor = 'left',\n",
    "                y = 0.50,\n",
    "                yanchor = 'top')\n",
    "        ])\n",
    "\n",
    "annotations = list([dict(\n",
    "                        text='Day Filter',\n",
    "                        x=1.075, \n",
    "                        y=0.50, \n",
    "                        yref='paper',\n",
    "                        xref='paper',\n",
    "                        align='left', \n",
    "                        showarrow=False)])\n",
    "\n",
    "layout['updatemenus'] = updatemenus\n",
    "layout['annotations'] = annotations\n",
    "\n",
    "fig = dict(data=data,layout=layout)\n",
    "\n",
    "# Plot Figure #\n",
    "plotly.offline.plot(fig, filename='Point Plot(TRIPS-DAY-TIME).html')"
   ]
  },
  {
   "cell_type": "code",
   "execution_count": 5,
   "metadata": {},
   "outputs": [
    {
     "data": {
      "text/plain": [
       "'file:///Users/dimitriskemos/Documents/MSc Data Science And Analytics/Visual Communication and Information Design/Assesments/2/Viz/uber-pickups-in-new-york-city/Uber14/Histogram(TRIPS-DAYS).html'"
      ]
     },
     "execution_count": 5,
     "metadata": {},
     "output_type": "execute_result"
    }
   ],
   "source": [
    "##  Histogram Displaying The Distribution Of Trips Over The Days Of The Week ##\n",
    "\n",
    "trace = go.Histogram(x=trips.dayofweek,opacity=0.750)\n",
    "data = [trace]\n",
    "layout = go.Layout(\n",
    "                   title=('Uber Pickups Over A Week (April - September 2014)'),\n",
    "                   titlefont=dict(size=30),\n",
    "    \n",
    "                   xaxis=dict(title= 'Days Of Week',\n",
    "                              tickmode = ['array'],\n",
    "                              tickvals = ['0','1','2','3',' 4','5','6'],\n",
    "                              ticktext = ['Monday','Tuesday','Wedenday','Thursday',' Friday','Saturday','Sunday'],\n",
    "                              titlefont=dict(family='Courier New, monospace',\n",
    "                                             size=25,\n",
    "                                             color='#7f7f7f'),\n",
    "                              tickfont=dict(size=15)),\n",
    "\n",
    "                   yaxis=dict(title='Trip Frequnecy',\n",
    "                              titlefont=dict(family='Courier New, monospace',\n",
    "                                             size=25,\n",
    "                                             color='#7f7f7f'),\n",
    "                              tickfont=dict(size=15)),\n",
    "                     bargap=0.2)\n",
    "\n",
    "fig = go.Figure(data=data, layout=layout)\n",
    "\n",
    "# Plot Figure #\n",
    "plotly.offline.plot(fig, filename='Histogram(TRIPS-DAYS).html')"
   ]
  },
  {
   "cell_type": "code",
   "execution_count": 6,
   "metadata": {},
   "outputs": [
    {
     "data": {
      "text/plain": [
       "'file:///Users/dimitriskemos/Documents/MSc Data Science And Analytics/Visual Communication and Information Design/Assesments/2/Viz/uber-pickups-in-new-york-city/Uber14/Histogram(LATITUDE).html'"
      ]
     },
     "execution_count": 6,
     "metadata": {},
     "output_type": "execute_result"
    }
   ],
   "source": [
    "## Latitude Ploted Against Number Of Trips With Interactive Elements ##\n",
    "\n",
    "trace = go.Histogram(x=trips.lat, xbins={'start':40.5, 'end':41, 'size': 0.0008},opacity=0.750)\n",
    "data = [trace]\n",
    "layout = go.Layout(title='Uber Trips Against Latitude (April - September 2014)',\n",
    "                   xaxis=dict(title='Time'),\n",
    "                   yaxis=dict( title='Trips'))\n",
    "\n",
    "fig = go.Figure(data=data, layout=layout)\n",
    "plotly.offline.plot(fig, filename='Histogram(LATITUDE).html')"
   ]
  },
  {
   "cell_type": "code",
   "execution_count": 7,
   "metadata": {},
   "outputs": [
    {
     "data": {
      "text/plain": [
       "'file:///Users/dimitriskemos/Documents/MSc Data Science And Analytics/Visual Communication and Information Design/Assesments/2/Viz/uber-pickups-in-new-york-city/Uber14/Histogram(LONGITUDE).html'"
      ]
     },
     "execution_count": 7,
     "metadata": {},
     "output_type": "execute_result"
    }
   ],
   "source": [
    "## Longitude Ploted Against Number Of Trips With Interactive Elemetns ##\n",
    "\n",
    "trace = go.Histogram(x=trips.lon, xbins={'start':-74.1, 'end':-73.9, 'size': 0.0008},opacity=0.750,xaxis='x2')\n",
    "data = [trace]\n",
    "layout = go.Layout(title='Uber Trips Against Longitude (April - September 2014)',\n",
    "                   xaxis=dict(title='Time'),\n",
    "                   yaxis=dict( title='Trips'))\n",
    "\n",
    "fig = go.Figure(data=data, layout=layout)\n",
    "\n",
    "# Plot Figure #\n",
    "plotly.offline.plot(fig, filename='Histogram(LONGITUDE).html')"
   ]
  },
  {
   "cell_type": "code",
   "execution_count": 8,
   "metadata": {},
   "outputs": [
    {
     "data": {
      "text/plain": [
       "'file:///Users/dimitriskemos/Documents/MSc Data Science And Analytics/Visual Communication and Information Design/Assesments/2/Viz/uber-pickups-in-new-york-city/Uber14/Histogram(LATITUDE-LONGITUDE).html'"
      ]
     },
     "execution_count": 8,
     "metadata": {},
     "output_type": "execute_result"
    }
   ],
   "source": [
    "## Latitude And Longitude Ploted Together With Number Of Trips ##\n",
    "\n",
    "Latitude = go.Histogram(\n",
    "           x=trips.lat, \n",
    "           xbins={'start':40.5, 'end':41, 'size': 0.0016},\n",
    "           opacity=0.750,xaxis='x1',\n",
    "           name='Latitude')\n",
    "\n",
    "Longitude = go.Histogram(\n",
    "            x=trips.lon, \n",
    "            xbins={'start':-74.1,'end':-73.9, 'size': 0.0008},\n",
    "            opacity=0.750,xaxis='x2',\n",
    "            name='Longitude')\n",
    "\n",
    "layout = go.Layout(yaxis=dict(title = \"Trip Frequency\",ticks='outside'),\n",
    "                   xaxis=dict(title= 'Latitude'),\n",
    "                   xaxis2=dict(title= 'Longitude',\n",
    "                   side = 'top',overlaying='x',\n",
    "                   showgrid=False))\n",
    "            \n",
    "\n",
    "annotations = list([dict(text='Trips Frequency On Different Coordinates',\n",
    "                         x=0, y=1.130, \n",
    "                         yref='paper',\n",
    "                         xref='paper' ,\n",
    "                         align='left',\n",
    "                         showarrow=False,\n",
    "                         font=dict(size=25))])\n",
    "\n",
    "layout['annotations'] = annotations\n",
    "\n",
    "data = [Latitude, Longitude]\n",
    "\n",
    "fig = go.Figure(data=data, layout=layout)\n",
    "\n",
    "plotly.offline.plot(fig, filename='Histogram(LATITUDE-LONGITUDE).html')\n"
   ]
  },
  {
   "cell_type": "markdown",
   "metadata": {},
   "source": [
    "## CLUSTER ANALYSIS"
   ]
  },
  {
   "cell_type": "code",
   "execution_count": 9,
   "metadata": {},
   "outputs": [
    {
     "name": "stdout",
     "output_type": "stream",
     "text": [
      "Number of clusters: 47\n"
     ]
    }
   ],
   "source": [
    "from sklearn.cluster import DBSCAN\n",
    "from geopy.distance import great_circle\n",
    "from shapely.geometry import MultiPoint\n",
    "import mplleaflet as mpl\n",
    "\n",
    "# clustering function that:\n",
    "# takes the maximum distance between two points, the minimum number of points required within each cluster\n",
    "# and the lat - lon from the trips data set, returrning the hot-spots in [lon,lat,number of members]\n",
    "def hotspots(max_dist,min_trips,trip_data):\n",
    "    point = trip_data.as_matrix(columns=['lat', 'lon'])\n",
    "    \n",
    "    kms_per_radian = 6371.0088\n",
    "    epsilon = max_dist / kms_per_radian\n",
    "    \n",
    "    # epsilon and coordinates get converted to radians, because scikit-learn’s haversine metric needs radian units\n",
    "    db = DBSCAN(eps=epsilon, min_samples=min_trips,\n",
    "                algorithm='ball_tree', metric='haversine').fit(np.radians(point))\n",
    "    \n",
    "    cluster_labels = db.labels_\n",
    "    num_clusters = len(set(cluster_labels))\n",
    "    clusters = pd.Series([point[cluster_labels == n] for n in range(num_clusters)])\n",
    "    \n",
    "    print('Number of clusters: {}'.format(num_clusters))\n",
    "    \n",
    "    lat,lon,num_members = [],[],[]\n",
    "    \n",
    "    # get the cluster centroids\n",
    "    for ii in range(len(clusters)):\n",
    "        if clusters[ii].any():\n",
    "            lat.append(MultiPoint(clusters[ii]).centroid.x)\n",
    "            lon.append(MultiPoint(clusters[ii]).centroid.y)\n",
    "            num_members.append(len(clusters[ii]))\n",
    "    hot_spots = [lon,lat,num_members]\n",
    "    \n",
    "    return hot_spots\n",
    "\n",
    "\n",
    "trip_data = trips.loc[(trips['weekday']=='Monday')&(trips['hour']>18)]\n",
    "\n",
    "# maximum distance between two points \n",
    "# contained in the same cluster measured in kilometers\n",
    "# can be redifined\n",
    "max_dist = 0.07\n",
    "\n",
    "#minimum number of pickup points inside the same cluster\n",
    "# can be redifined\n",
    "min_trips = 200\n",
    "\n",
    "#calling the function containing the clustering procedure \n",
    "# using the values defined above\n",
    "hot_spots = hotspots(max_dist,min_trips, trip_data)\n",
    "\n",
    "df = pd.DataFrame(hot_spots)\n",
    "df.to_csv('Cluster_Data.csv')\n"
   ]
  },
  {
   "cell_type": "markdown",
   "metadata": {},
   "source": [
    "## CORREALTION COEFFICIENT"
   ]
  },
  {
   "cell_type": "code",
   "execution_count": 3,
   "metadata": {},
   "outputs": [
    {
     "name": "stdout",
     "output_type": "stream",
     "text": [
      "<class 'pandas.core.frame.DataFrame'>\n",
      "RangeIndex: 29101 entries, 0 to 29100\n",
      "Data columns (total 13 columns):\n",
      "pickup_dt    29101 non-null object\n",
      "borough      26058 non-null object\n",
      "pickups      29101 non-null int64\n",
      "spd          29101 non-null float64\n",
      "vsb          29101 non-null float64\n",
      "temp         29101 non-null float64\n",
      "dewp         29101 non-null float64\n",
      "slp          29101 non-null float64\n",
      "pcp01        29101 non-null float64\n",
      "pcp06        29101 non-null float64\n",
      "pcp24        29101 non-null float64\n",
      "sd           29101 non-null float64\n",
      "hday         29101 non-null object\n",
      "dtypes: float64(9), int64(1), object(3)\n",
      "memory usage: 2.9+ MB\n"
     ]
    }
   ],
   "source": [
    "import pandas as pd\n",
    "weather_trips = pd.read_csv('uber_nyc_enriched.csv')\n",
    "weather_trips.info()"
   ]
  },
  {
   "cell_type": "code",
   "execution_count": null,
   "metadata": {},
   "outputs": [],
   "source": [
    "weather_trips.info() , weather_trips[['pickups','temp']].describe"
   ]
  },
  {
   "cell_type": "code",
   "execution_count": null,
   "metadata": {},
   "outputs": [],
   "source": [
    "## Visual Check For Spearmans Assumptions, \n",
    "weather_trips.plot.scatter(\"temp\", \"pickups\")"
   ]
  },
  {
   "cell_type": "code",
   "execution_count": null,
   "metadata": {},
   "outputs": [],
   "source": [
    "import scipy.stats as stats\n",
    "\n",
    "## Checking Assumptions For Spearman Correlation\n",
    "stats.levene(weather_trips['pickups'], weather_trips['temp'])"
   ]
  },
  {
   "cell_type": "code",
   "execution_count": null,
   "metadata": {},
   "outputs": [],
   "source": [
    "## Acording To Lavenes Test Spearman Cant Be Used On Our Data\n",
    "## Spearman Calculated Out Of Curiosity \n",
    "weather_trips['pickups'].corr(weather_trips['temp'],method= 'spearman')"
   ]
  }
 ],
 "metadata": {
  "kernelspec": {
   "display_name": "Python 3",
   "language": "python",
   "name": "python3"
  },
  "language_info": {
   "codemirror_mode": {
    "name": "ipython",
    "version": 3
   },
   "file_extension": ".py",
   "mimetype": "text/x-python",
   "name": "python",
   "nbconvert_exporter": "python",
   "pygments_lexer": "ipython3",
   "version": "3.6.4"
  }
 },
 "nbformat": 4,
 "nbformat_minor": 2
}
